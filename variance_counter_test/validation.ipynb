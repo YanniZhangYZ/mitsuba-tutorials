{
 "cells": [
  {
   "attachments": {},
   "cell_type": "markdown",
   "metadata": {},
   "source": [
    "# Basic validation of `grad2` and `counting number`"
   ]
  },
  {
   "cell_type": "code",
   "execution_count": 1,
   "metadata": {
    "ExecuteTime": {
     "end_time": "2021-06-15T14:13:40.427650Z",
     "start_time": "2021-06-15T14:13:40.259649Z"
    }
   },
   "outputs": [],
   "source": [
    "import drjit as dr\n",
    "import mitsuba as mi\n",
    "import numpy as np\n",
    "\n",
    "\n",
    "mi.set_variant('llvm_ad_rgb')\n",
    "# dr.set_flag(dr.JitFlag.LoopRecord, False)\n",
    "# dr.set_flag(dr.JitFlag.VCallRecord, False)\n",
    "\n",
    "# dr.set_log_level(dr.LogLevel.Trace)"
   ]
  },
  {
   "cell_type": "code",
   "execution_count": 2,
   "metadata": {},
   "outputs": [
    {
     "data": {
      "text/plain": [
       "'/home/yanni/mitsuba3/build/python/drjit/__init__.py'"
      ]
     },
     "execution_count": 2,
     "metadata": {},
     "output_type": "execute_result"
    }
   ],
   "source": [
    "dr.__file__"
   ]
  },
  {
   "cell_type": "code",
   "execution_count": 3,
   "metadata": {},
   "outputs": [],
   "source": [
    "checkerboard = True\n",
    "mirror =  not checkerboard\n",
    "\n",
    "visualize_ad_graph = True\n"
   ]
  },
  {
   "cell_type": "markdown",
   "metadata": {},
   "source": [
    "It should be noted that here we use directional light."
   ]
  },
  {
   "cell_type": "code",
   "execution_count": 4,
   "metadata": {
    "ExecuteTime": {
     "end_time": "2021-06-15T14:13:40.914750Z",
     "start_time": "2021-06-15T14:13:40.807334Z"
    }
   },
   "outputs": [],
   "source": [
    "# the hdr film filter is set to box instead of gaussian\n",
    "if checkerboard:\n",
    "    scene = mi.load_file('scenes/rectangle.xml', spp = 1, resx = 2, resy = 2, max_depth = 6)\n",
    "if mirror:\n",
    "    scene = mi.load_file('scenes/mirror.xml', spp = 10, resx = 64, resy = 64, max_depth = 6)\n"
   ]
  },
  {
   "cell_type": "code",
   "execution_count": 5,
   "metadata": {},
   "outputs": [
    {
     "data": {
      "text/html": [
       "<img src=\"data:image/png;base64, iVBORw0KGgoAAAANSUhEUgAAAAIAAAACEAIAAACtREYwAAAABGdBTUEAALGPC/xhBQAAAAFzUkdCAzfHTVMAAAAgY0hSTQAAeiYAAICEAAD6AAAAgOgAAHUwAADqYAAAOpgAABdwnLpRPAAAACR0RVh0Z2VuZXJhdGVkX2J5ACJNaXRzdWJhIHZlcnNpb24gMy4zLjAiZsCOiQAAABlJREFUCFs1xSEBAAAAwyD6l97VMQCq6oEBm34L9bQ+zdEAAAAASUVORK5CYII=\"width=\"250vm\" />"
      ],
      "text/plain": [
       "Bitmap[\n",
       "  pixel_format = rgb,\n",
       "  component_format = uint8,\n",
       "  size = [2, 2],\n",
       "  srgb_gamma = 1,\n",
       "  struct = Struct<3>[\n",
       "    uint8 R; // @0, normalized, gamma, premultiplied alpha\n",
       "    uint8 G; // @1, normalized, gamma, premultiplied alpha\n",
       "    uint8 B; // @2, normalized, gamma, premultiplied alpha\n",
       "  ],\n",
       "  data = [ 12 B of image data ]\n",
       "]"
      ]
     },
     "execution_count": 5,
     "metadata": {},
     "output_type": "execute_result"
    }
   ],
   "source": [
    "image_ref = scene.integrator().render(scene, scene.sensors()[0])\n",
    "mi.util.convert_to_bitmap(image_ref)\n"
   ]
  },
  {
   "attachments": {},
   "cell_type": "markdown",
   "metadata": {},
   "source": [
    "### Reference image"
   ]
  },
  {
   "cell_type": "code",
   "execution_count": 6,
   "metadata": {},
   "outputs": [],
   "source": [
    "# image_ref = mi.render(scene)\n",
    "# # Preview the reference image\n",
    "# mi.util.convert_to_bitmap(image_ref)"
   ]
  },
  {
   "cell_type": "code",
   "execution_count": 7,
   "metadata": {},
   "outputs": [
    {
     "name": "stdout",
     "output_type": "stream",
     "text": [
      "[[[0.        0.        0.       ]\n",
      "  [1.5915494 1.5915494 1.5915494]]\n",
      "\n",
      " [[1.5915494 1.5915494 1.5915494]\n",
      "  [0.        0.        0.       ]]]\n"
     ]
    }
   ],
   "source": [
    "if checkerboard:\n",
    "    mi.Bitmap(image_ref).write('22.exr')\n",
    "    mi.util.write_bitmap('22.png', image_ref)\n",
    "    print(image_ref.numpy())\n",
    "if mirror:\n",
    "    mi.Bitmap(image_ref).write('mirror.exr')\n",
    "    mi.util.write_bitmap('mirror.png', image_ref)\n"
   ]
  },
  {
   "cell_type": "code",
   "execution_count": 8,
   "metadata": {},
   "outputs": [],
   "source": [
    "params = mi.traverse(scene)\n",
    "# params"
   ]
  },
  {
   "attachments": {},
   "cell_type": "markdown",
   "metadata": {},
   "source": [
    "### Initial state"
   ]
  },
  {
   "cell_type": "code",
   "execution_count": 9,
   "metadata": {},
   "outputs": [],
   "source": [
    "key = 'color_checkerboard.color1.value'\n",
    "# key = 'red.reflectance.value'\n",
    "\n",
    "# Save the original value\n",
    "param_ref = mi.Color3f(params[key])\n",
    "\n",
    "# Set another color value and update the scene\n",
    "params[key] = mi.Color3f(0.01, 0.2, 0.9)\n",
    "dr.enable_grad(params[key])\n",
    "params.update();"
   ]
  },
  {
   "attachments": {},
   "cell_type": "markdown",
   "metadata": {},
   "source": [
    "As expected, when rendering the scene again, the wall has changed color."
   ]
  },
  {
   "cell_type": "code",
   "execution_count": 10,
   "metadata": {},
   "outputs": [
    {
     "data": {
      "text/html": [
       "<img src=\"data:image/png;base64, iVBORw0KGgoAAAANSUhEUgAAAAIAAAACEAIAAACtREYwAAAABGdBTUEAALGPC/xhBQAAAAFzUkdCAzfHTVMAAAAgY0hSTQAAeiYAAICEAAD6AAAAgOgAAHUwAADqYAAAOpgAABdwnLpRPAAAACR0RVh0Z2VuZXJhdGVkX2J5ACJNaXRzdWJhIHZlcnNpb24gMy4zLjAiZsCOiQAAABhJREFUCFtjUFKaOfM/FDBCKGXlWbMYGADrgBDkiUwbSAAAAABJRU5ErkJggg==\"width=\"250vm\" />"
      ],
      "text/plain": [
       "Bitmap[\n",
       "  pixel_format = rgb,\n",
       "  component_format = uint8,\n",
       "  size = [2, 2],\n",
       "  srgb_gamma = 1,\n",
       "  struct = Struct<3>[\n",
       "    uint8 R; // @0, normalized, gamma, premultiplied alpha\n",
       "    uint8 G; // @1, normalized, gamma, premultiplied alpha\n",
       "    uint8 B; // @2, normalized, gamma, premultiplied alpha\n",
       "  ],\n",
       "  data = [ 12 B of image data ]\n",
       "]"
      ]
     },
     "execution_count": 10,
     "metadata": {},
     "output_type": "execute_result"
    }
   ],
   "source": [
    "image_init = scene.integrator().render(scene, scene.sensors()[0])\n",
    "mi.util.convert_to_bitmap(image_init)"
   ]
  },
  {
   "cell_type": "code",
   "execution_count": 11,
   "metadata": {},
   "outputs": [],
   "source": [
    "# image_init = mi.render(scene)\n",
    "# mi.util.convert_to_bitmap(image_init)"
   ]
  },
  {
   "cell_type": "code",
   "execution_count": 12,
   "metadata": {},
   "outputs": [
    {
     "name": "stdout",
     "output_type": "stream",
     "text": [
      "[[[0.01591549 0.3183099  1.4323944 ]\n",
      "  [1.5915494  1.5915494  1.5915494 ]]\n",
      "\n",
      " [[1.5915494  1.5915494  1.5915494 ]\n",
      "  [0.01591549 0.3183099  1.4323944 ]]]\n"
     ]
    }
   ],
   "source": [
    "if checkerboard:\n",
    "    mi.Bitmap(image_init).write('22_init.exr')\n",
    "    mi.util.write_bitmap('22_init.png', image_init)\n",
    "    print(image_init.numpy())\n",
    "if mirror:\n",
    "    mi.Bitmap(image_init).write('mirror_init.exr')\n",
    "    mi.util.write_bitmap('mirror_init.png', image_init)"
   ]
  },
  {
   "cell_type": "code",
   "execution_count": 13,
   "metadata": {},
   "outputs": [],
   "source": [
    "def mse(image):\n",
    "    return dr.mean(dr.sqr(image - image_ref))"
   ]
  },
  {
   "attachments": {},
   "cell_type": "markdown",
   "metadata": {},
   "source": [
    "#### 1. spp = 1, iteration = 10, random seed is set\n",
    "\\\n",
    "Now we record the grads, grad2s, and counters for 10 iterations"
   ]
  },
  {
   "cell_type": "code",
   "execution_count": 14,
   "metadata": {},
   "outputs": [],
   "source": [
    "grad = []\n",
    "grad2 = []\n",
    "counter = []\n",
    "iter = 10"
   ]
  },
  {
   "cell_type": "code",
   "execution_count": 15,
   "metadata": {},
   "outputs": [],
   "source": [
    "for i in range(iter):\n",
    "    # it's important to set the seeds to get statistically independent samples\n",
    "    image = mi.render(scene,params,seed=i,spp=1)      \n",
    "    loss = mse(image)\n",
    "    dr.backward(loss, flags = dr.ADFlag.BackPropVarianceCounter | dr.ADFlag.ClearVertices)\n",
    "    g_ = dr.grad(params[key])\n",
    "    g2_= dr.grad2(params[key])\n",
    "    c_ = dr.counter(params[key])\n",
    "    grad.append(g_)\n",
    "    grad2.append(g2_)\n",
    "    counter.append(c_)\n",
    "    dr.set_grad(params[key], 0)\n",
    "\n",
    "grad = np.array(grad, dtype=np.float64)\n",
    "grad2 = np.array(grad2, dtype=np.float64)\n",
    "counter = np.array(counter, dtype=np.float64)"
   ]
  },
  {
   "attachments": {},
   "cell_type": "markdown",
   "metadata": {},
   "source": [
    "As expected, the gradients( as well as grad2 and counter) are exactly the same between iterations"
   ]
  },
  {
   "cell_type": "code",
   "execution_count": 16,
   "metadata": {},
   "outputs": [
    {
     "name": "stdout",
     "output_type": "stream",
     "text": [
      "[[[2. 2. 2.]]\n",
      "\n",
      " [[2. 2. 2.]]\n",
      "\n",
      " [[2. 2. 2.]]\n",
      "\n",
      " [[2. 2. 2.]]\n",
      "\n",
      " [[2. 2. 2.]]\n",
      "\n",
      " [[2. 2. 2.]]\n",
      "\n",
      " [[2. 2. 2.]]\n",
      "\n",
      " [[2. 2. 2.]]\n",
      "\n",
      " [[2. 2. 2.]]\n",
      "\n",
      " [[2. 2. 2.]]]\n"
     ]
    }
   ],
   "source": [
    "# print(grad2)\n",
    "print(counter)"
   ]
  },
  {
   "cell_type": "code",
   "execution_count": 17,
   "metadata": {},
   "outputs": [],
   "source": [
    "m_grad = np.mean(grad, axis = 0,dtype=np.float64)\n",
    "m_grad2 = np.mean(grad2, axis = 0,dtype=np.float64)\n",
    "m_counter = np.mean(counter, axis = 0,dtype=np.float64)\n",
    "# print(m_grad)\n",
    "# print(m_grad2)\n",
    "# print(m_counter)"
   ]
  },
  {
   "attachments": {},
   "cell_type": "markdown",
   "metadata": {},
   "source": [
    "#### 2. spp = 10, iteration = 1, random seed is set\n",
    "Now we record the gradient for only one time"
   ]
  },
  {
   "cell_type": "code",
   "execution_count": 18,
   "metadata": {},
   "outputs": [
    {
     "name": "stdout",
     "output_type": "stream",
     "text": [
      "[[0.00844343 0.16886863 0.7599088 ]]\n",
      "[[3.56457713e-06 1.42583088e-03 2.88730673e-02]]\n",
      "[[20. 20. 20.]]\n"
     ]
    }
   ],
   "source": [
    "dr.set_grad(params[key], 0)\n",
    "image = mi.render(scene, params,seed=iter+1, spp=iter)      \n",
    "loss = mse(image)\n",
    "# Backpropagate through the rendering process\n",
    "dr.backward(loss, flags = dr.ADFlag.BackPropVarianceCounter | dr.ADFlag.ClearVertices)\n",
    "g = dr.grad(params[key])\n",
    "g2 = dr.grad2(params[key])\n",
    "c = dr.counter(params[key])\n",
    "g = np.array(g, dtype=np.float64)\n",
    "g2 = np.array(g2, dtype=np.float64)\n",
    "c = np.array(c, dtype=np.float64)\n",
    "print(g)\n",
    "print(g2)\n",
    "print(c)"
   ]
  },
  {
   "attachments": {},
   "cell_type": "markdown",
   "metadata": {},
   "source": [
    "#### 3. Results\n",
    "For spp = 1, iteration = N, and the scenaria where spp = N, iteration = 1, we find that\n",
    "- The grad remains the same;\n",
    "- The grad2 is N times smaller for spp = N\n",
    "- The counter is N times bigger for spp = N"
   ]
  },
  {
   "cell_type": "code",
   "execution_count": 19,
   "metadata": {},
   "outputs": [
    {
     "name": "stdout",
     "output_type": "stream",
     "text": [
      "[[0.00844343 0.16886865 0.75990874]]\n",
      "[[0.00844343 0.16886863 0.7599088 ]]\n",
      "-------------------------------------\n",
      "[[3.56457713e-05 1.42583093e-02 2.88730651e-01]]\n",
      "[[3.56457713e-06 1.42583088e-03 2.88730673e-02]]\n",
      "-------------------------------------\n",
      "[[2. 2. 2.]]\n",
      "[[20. 20. 20.]]\n"
     ]
    }
   ],
   "source": [
    "print(m_grad)\n",
    "print(g)\n",
    "print(\"-------------------------------------\")\n",
    "print(m_grad2)\n",
    "print(g2)\n",
    "print(\"-------------------------------------\")\n",
    "print(m_counter)\n",
    "print(c)"
   ]
  },
  {
   "attachments": {},
   "cell_type": "markdown",
   "metadata": {},
   "source": [
    "The intuitive reasons are as follow:\n",
    "\n",
    "\n",
    "| numbers | spp = 1 | result  | spp = N  | result  |\n",
    "| :------------------- | :------------------- |:------------------- |:------------------- |:------------------- |\n",
    "| edge weight | [1] | - | [1/N, 1/N, ..., 1/N], (1,N) | -|\n",
    "| grad | [1 * grad] | grad | [1/N * grad, 1/N * grad, ..., 1/N *grad], (1,N) | grad|\n",
    "| grad2 | [1 * 1 * grad2] | grad2 | [1/N * 1/N * grad2,  ..., 1/N * 1/N * grad2], (1,N) | 1/N * grad2|\n",
    "| counter | [1 * counter] | counter | [1 * counter,  ..., 1 * counter], (1,N) | N * counter|"
   ]
  },
  {
   "cell_type": "code",
   "execution_count": null,
   "metadata": {},
   "outputs": [],
   "source": [
    "if visualize_ad_graph:\n",
    "    ad_graph = dr.graphviz_ad()\n",
    "    ad_graph.view()\n"
   ]
  },
  {
   "cell_type": "code",
   "execution_count": null,
   "metadata": {},
   "outputs": [],
   "source": []
  }
 ],
 "metadata": {
  "file_extension": ".py",
  "kernelspec": {
   "display_name": "Python 3 (ipykernel)",
   "language": "python",
   "name": "python3"
  },
  "language_info": {
   "codemirror_mode": {
    "name": "ipython",
    "version": 3
   },
   "file_extension": ".py",
   "mimetype": "text/x-python",
   "name": "python",
   "nbconvert_exporter": "python",
   "pygments_lexer": "ipython3",
   "version": "3.9.16"
  },
  "metadata": {
   "interpreter": {
    "hash": "31f2aee4e71d21fbe5cf8b01ff0e069b9275f58929596ceb00d14d90e3e16cd6"
   }
  },
  "mimetype": "text/x-python",
  "name": "python",
  "npconvert_exporter": "python",
  "pygments_lexer": "ipython3",
  "version": 3
 },
 "nbformat": 4,
 "nbformat_minor": 4
}
