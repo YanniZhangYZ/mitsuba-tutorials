{
 "cells": [
  {
   "attachments": {},
   "cell_type": "markdown",
   "metadata": {},
   "source": [
    "# Gradient-based optimization"
   ]
  },
  {
   "cell_type": "code",
   "execution_count": null,
   "metadata": {
    "ExecuteTime": {
     "end_time": "2021-06-15T14:13:40.427650Z",
     "start_time": "2021-06-15T14:13:40.259649Z"
    }
   },
   "outputs": [],
   "source": [
    "import drjit as dr\n",
    "import mitsuba as mi\n",
    "\n",
    "\n",
    "mi.set_variant('cuda_ad_rgb')\n"
   ]
  },
  {
   "cell_type": "code",
   "execution_count": null,
   "metadata": {},
   "outputs": [],
   "source": [
    "dr.__file__"
   ]
  },
  {
   "cell_type": "code",
   "execution_count": null,
   "metadata": {
    "ExecuteTime": {
     "end_time": "2021-06-15T14:13:40.914750Z",
     "start_time": "2021-06-15T14:13:40.807334Z"
    }
   },
   "outputs": [],
   "source": [
    "scene_Adam = mi.load_file('scenes/living_room.xml')\n",
    "scene_AdamV = mi.load_file('scenes/living_room.xml')\n",
    "scene_AdamVC = mi.load_file('scenes/living_room.xml')\n",
    "scene_veach = False\n",
    "# key = 'WallsBSDF.brdf_0.reflectance.value'\n",
    "key = 'PaintingBSDF.brdf_0.reflectance.data'\n",
    "\n",
    "\n"
   ]
  },
  {
   "attachments": {},
   "cell_type": "markdown",
   "metadata": {},
   "source": [
    "### Reference image"
   ]
  },
  {
   "cell_type": "code",
   "execution_count": null,
   "metadata": {},
   "outputs": [],
   "source": [
    "image_ref = mi.render(scene_Adam)\n",
    "# print(image_ref.numpy())\n",
    "\n",
    "# Preview the reference image\n",
    "mi.util.convert_to_bitmap(image_ref)\n",
    "# mi.util.write_bitmap('/Users/yannizhang/Desktop/veach_ref.exr', image_ref)\n"
   ]
  },
  {
   "cell_type": "code",
   "execution_count": null,
   "metadata": {},
   "outputs": [],
   "source": [
    "image_ref = mi.render(scene_Adam, spp=1, seed=1)\n",
    "# print(image_ref.numpy())\n",
    "\n",
    "# Preview the reference image\n",
    "mi.util.convert_to_bitmap(image_ref)\n",
    "# mi.util.write_bitmap('/Users/yannizhang/Desktop/veach_ref.exr', image_ref)"
   ]
  },
  {
   "cell_type": "code",
   "execution_count": null,
   "metadata": {},
   "outputs": [],
   "source": [
    "params_Adam = mi.traverse(scene_Adam)\n",
    "params_AdamV = mi.traverse(scene_AdamV)\n",
    "params_AdamVC = mi.traverse(scene_AdamVC)\n",
    "params_Adam"
   ]
  },
  {
   "cell_type": "code",
   "execution_count": null,
   "metadata": {},
   "outputs": [],
   "source": [
    "new_p = mi.Bitmap('scenes/living-room/new_carrot.png')\n",
    "bmp = new_p.convert(\n",
    "    pixel_format=mi.Bitmap.PixelFormat.RGB,\n",
    "    component_format=mi.Struct.Type.Float32,\n",
    "    srgb_gamma=True\n",
    ")\n",
    "\n",
    "# Thanks to the array interface protocol, it is easy to create a TensorXf from a bitmap object\n",
    "img = mi.TensorXf(bmp)\n",
    "\n",
    "mi.util.convert_to_bitmap(img)"
   ]
  },
  {
   "attachments": {},
   "cell_type": "markdown",
   "metadata": {},
   "source": [
    "### Initial state"
   ]
  },
  {
   "cell_type": "code",
   "execution_count": null,
   "metadata": {},
   "outputs": [],
   "source": [
    "# Save the original value\n",
    "# param_ref_Adam = mi.Color3f(params_Adam[key])\n",
    "# param_ref_AdamV = mi.Color3f(params_AdamV[key])\n",
    "# param_ref_AdamVC = mi.Color3f(params_AdamVC[key])\n",
    "\n",
    "param_ref_Adam = mi.TensorXf(params_Adam[key])\n",
    "param_ref_AdamV = mi.TensorXf(params_AdamV[key])\n",
    "param_ref_AdamVC = mi.TensorXf(params_AdamVC[key])\n",
    "\n",
    "# Set another color value and update the scene\n",
    "# params_Adam[key] = mi.Color3f(0.01, 0.2, 0.9)\n",
    "# params_AdamV[key] = mi.Color3f(0.01, 0.2, 0.9)\n",
    "# params_AdamVC[key] = mi.Color3f(0.01, 0.2, 0.9)\n",
    "\n",
    "params_Adam[key] = img\n",
    "params_AdamV[key] = img\n",
    "params_AdamVC[key] = img\n",
    "\n",
    "\n",
    "params_Adam.update();\n",
    "params_AdamV.update();\n",
    "params_AdamVC.update();"
   ]
  },
  {
   "attachments": {},
   "cell_type": "markdown",
   "metadata": {},
   "source": [
    "As expected, when rendering the scene again, the wall has changed color."
   ]
  },
  {
   "cell_type": "code",
   "execution_count": null,
   "metadata": {},
   "outputs": [],
   "source": [
    "image_init = mi.render(scene_Adam)\n",
    "mi.util.convert_to_bitmap(image_init)"
   ]
  },
  {
   "attachments": {},
   "cell_type": "markdown",
   "metadata": {},
   "source": [
    "## Optimization\n",
    "\n",
    "For gradient-based optimization, Mitsuba ships with standard optimizers including *Stochastic Gradient Descent* ([<code>SGD</code>][1]) with and without momentum, as well as [<code>Adam</code>][2] <cite data-cite=\"kingma2014adam\">[KB14]</cite>. We will instantiate the latter and optimize our scene parameter with a learning rate of `0.05`. \n",
    "\n",
    "We then set the color to optimize on the optimizer, which will now hold a copy of this parameter and enable gradient tracking on it. During the optimization process, the optimizer will always perfom gradient steps on those variables. To propagate those changes to the scene, we need to call the `update()` method which will copy the values back into the `params` data structure. As always this method also notifies all objects in the scene whose parameters have changed, in case they need to update their internal state.\n",
    "\n",
    "This first call to `params.update()` ensures that gradient tracking with respect to our wall color parameter is propagated to the scene internal state. For more detailed explanation on how-to-use the optimizer classes, please refer to the dedicated [how-to-guide][3].\n",
    "\n",
    "[1]: https://mitsuba.readthedocs.io/en/latest/src/api_reference.html#mitsuba.ad.SGD\n",
    "[2]: https://mitsuba.readthedocs.io/en/latest/src/api_reference.html#mitsuba.ad.Adam\n",
    "[3]: https://mitsuba.readthedocs.io/en/latest/src/how_to_guides/use_optimizers.html"
   ]
  },
  {
   "cell_type": "code",
   "execution_count": null,
   "metadata": {
    "ExecuteTime": {
     "end_time": "2021-06-15T14:13:51.368393Z",
     "start_time": "2021-06-15T14:13:51.362695Z"
    }
   },
   "outputs": [],
   "source": [
    "opt_Adam = mi.ad.Adam(lr=0.05)\n",
    "opt_AdamV = mi.ad.AdamV(lr=0.05)\n",
    "opt_AdamVC = mi.ad.AdamVC(lr=0.05)\n",
    "\n",
    "\n",
    "opt_Adam[key] = params_Adam[key]\n",
    "opt_AdamV[key] = params_AdamV[key]\n",
    "opt_AdamVC[key] = params_AdamVC[key]\n",
    "\n",
    "params_Adam.update(opt_Adam);\n",
    "params_AdamV.update(opt_AdamV);\n",
    "params_AdamVC.update(opt_AdamVC);"
   ]
  },
  {
   "attachments": {},
   "cell_type": "markdown",
   "metadata": {},
   "source": [
    "At every iteration of the gradient descent, we will compute the derivatives of the scene parameters with respect to the objective function. In this simple experiment, we use the [*mean square error*][1], or $L_2$ error, between the current image and the reference created above.\n",
    "\n",
    "[1]: https://en.wikipedia.org/wiki/Mean_squared_error"
   ]
  },
  {
   "cell_type": "code",
   "execution_count": null,
   "metadata": {},
   "outputs": [],
   "source": [
    "def mse(image):\n",
    "    return dr.mean(dr.sqr(image - image_ref))"
   ]
  },
  {
   "attachments": {},
   "cell_type": "markdown",
   "metadata": {},
   "source": [
    "In the following cell we define the hyper parameters controlling our optimization loop, such as the number of iterations:"
   ]
  },
  {
   "cell_type": "code",
   "execution_count": null,
   "metadata": {},
   "outputs": [],
   "source": [
    "iteration_count = 200"
   ]
  },
  {
   "cell_type": "code",
   "execution_count": null,
   "metadata": {
    "nbsphinx": "hidden",
    "tags": []
   },
   "outputs": [],
   "source": [
    "# IGNORE THIS: When running under pytest, adjust parameters to reduce computation time\n",
    "import os\n",
    "if 'PYTEST_CURRENT_TEST' in os.environ:\n",
    "    iteration_count = 2"
   ]
  },
  {
   "attachments": {},
   "cell_type": "markdown",
   "metadata": {},
   "source": [
    "It is now time to actually perform the gradient-descent loop that executes 50 differentiable rendering iterations."
   ]
  },
  {
   "cell_type": "code",
   "execution_count": null,
   "metadata": {
    "ExecuteTime": {
     "end_time": "2021-06-15T14:14:04.664564Z",
     "start_time": "2021-06-15T14:13:54.209445Z"
    }
   },
   "outputs": [],
   "source": [
    "def optimize(params, scene,opt,param_ref,iteration_count):\n",
    "    errors = []\n",
    "    err_init = dr.sum(dr.sqr(param_ref - params[key]))\n",
    "    errors.append(err_init)\n",
    "    for it in range(iteration_count):\n",
    "        # Perform a (noisy) differentiable rendering of the scene\n",
    "        image = mi.render(scene, params,spp=1, seed = 1)\n",
    "        # Evaluate the objective function from the current rendered image\n",
    "        loss = mse(image)\n",
    "\n",
    "        # Backpropagate through the rendering process\n",
    "        dr.backward(loss, flags = dr.ADFlag.BackPropVarianceCounter | dr.ADFlag.ClearVertices)\n",
    "\n",
    "        # g = dr.graphviz_ad()\n",
    "        # g.view()\n",
    "\n",
    "\n",
    "        # Optimizer: take a gradient descent step\n",
    "        opt.step()\n",
    "\n",
    "        # Post-process the optimized parameters to ensure legal color values.\n",
    "        opt[key] = dr.clamp(opt[key], 0.0, 1.0)\n",
    "\n",
    "        # Update the scene state to the new optimized values\n",
    "        params.update(opt)\n",
    "        \n",
    "        # Track the difference between the current color and the true value\n",
    "        err_ref = dr.sum(dr.sqr(param_ref - params[key]))\n",
    "        print(f\"Iteration {it:02d}: parameter error = {err_ref[0]:6f}\", end='\\r')\n",
    "        errors.append(err_ref)\n",
    "    print('\\nOptimization complete.')\n",
    "    return errors"
   ]
  },
  {
   "cell_type": "code",
   "execution_count": null,
   "metadata": {},
   "outputs": [],
   "source": [
    "errors_Adam = optimize(params_Adam, scene_Adam,opt_Adam,param_ref_Adam,iteration_count);\n",
    "errors_AdamV = optimize(params_AdamV, scene_AdamV,opt_AdamV,param_ref_AdamV,iteration_count);\n",
    "errors_AdamVC = optimize(params_AdamVC, scene_AdamVC,opt_AdamVC,param_ref_AdamVC,iteration_count);\n"
   ]
  },
  {
   "attachments": {},
   "cell_type": "markdown",
   "metadata": {},
   "source": [
    "## Results\n",
    "\n",
    "We can now render the scene again to check whether the optimization process successfully recovered the color of the red wall."
   ]
  },
  {
   "cell_type": "code",
   "execution_count": null,
   "metadata": {
    "ExecuteTime": {
     "end_time": "2021-06-15T14:14:07.765382Z",
     "start_time": "2021-06-15T14:14:06.895491Z"
    }
   },
   "outputs": [],
   "source": [
    "image_final = mi.render(scene_Adam, spp=128)\n",
    "# mi.util.write_bitmap('/Users/yannizhang/Desktop/veavh_adam.exr', image_final)\n",
    "mi.util.convert_to_bitmap(image_final)\n"
   ]
  },
  {
   "cell_type": "code",
   "execution_count": null,
   "metadata": {},
   "outputs": [],
   "source": [
    "image_final = mi.render(scene_AdamV, spp=128)\n",
    "# mi.util.write_bitmap('/Users/yannizhang/Desktop/veach_V.exr', image_final)\n",
    "mi.util.convert_to_bitmap(image_final)"
   ]
  },
  {
   "cell_type": "code",
   "execution_count": null,
   "metadata": {},
   "outputs": [],
   "source": [
    "image_final = mi.render(scene_AdamVC, spp=128)\n",
    "# mi.util.write_bitmap('/Users/yannizhang/Desktop/veach_vc.exr', image_final)\n",
    "mi.util.convert_to_bitmap(image_final)"
   ]
  },
  {
   "attachments": {},
   "cell_type": "markdown",
   "metadata": {},
   "source": [
    "It worked!\n",
    "\n",
    "Note visualizing the objective value directly sometimes gives limited information, since differences between `image` and `image_ref` can be dominated by Monte Carlo noise that is not related to the parameter being optimized. \n",
    "\n",
    "Since we know the “true” target parameter in this scene, we can validate the convergence of the optimization by checking the difference to the true color at each iteration:"
   ]
  },
  {
   "cell_type": "code",
   "execution_count": null,
   "metadata": {},
   "outputs": [],
   "source": [
    "import matplotlib.pyplot as plt\n",
    "\n",
    "plt.plot(errors_Adam, linestyle='--',label='Adam')\n",
    "plt.plot(errors_AdamV, linestyle='-',label='AdamV')\n",
    "plt.plot(errors_AdamVC, linestyle=':',label='AdamVC')\n",
    "plt.legend()\n",
    "\n",
    "plt.xlabel('Iteration'); plt.ylabel('MSE(param)'); plt.title('Parameter error plot');\n",
    "# plt.savefig('/Users/yannizhang/Desktop/veach_mis.png')\n",
    "plt.show()"
   ]
  },
  {
   "cell_type": "code",
   "execution_count": null,
   "metadata": {
    "nbsphinx-thumbnail": {},
    "tags": []
   },
   "outputs": [],
   "source": [
    "import matplotlib.pyplot as plt\n",
    "\n",
    "plt.plot(errors_Adam[1:], linestyle='--',label='Adam')\n",
    "plt.plot(errors_AdamV[1:], linestyle='-',label='AdamV')\n",
    "plt.plot(errors_AdamVC[1:], linestyle=':',label='AdamVC')\n",
    "plt.legend()\n",
    "\n",
    "plt.xlabel('Iteration'); plt.ylabel('MSE(param)'); plt.title('Parameter error plot');\n",
    "# plt.savefig('/Users/yannizhang/Desktop/RGL/5.10/scene2_adma_V_C.png')\n",
    "plt.show()"
   ]
  },
  {
   "cell_type": "code",
   "execution_count": null,
   "metadata": {},
   "outputs": [],
   "source": [
    "mi.util.convert_to_bitmap(params_Adam[key])\n"
   ]
  },
  {
   "cell_type": "code",
   "execution_count": null,
   "metadata": {},
   "outputs": [],
   "source": [
    "mi.util.convert_to_bitmap(params_AdamV[key])\n"
   ]
  },
  {
   "cell_type": "code",
   "execution_count": null,
   "metadata": {},
   "outputs": [],
   "source": [
    "mi.util.convert_to_bitmap(params_AdamVC[key])\n"
   ]
  },
  {
   "attachments": {},
   "cell_type": "markdown",
   "metadata": {},
   "source": [
    "## See also\n",
    "\n",
    "- [Detailed look at <code>Optimizer</code>](https://mitsuba.readthedocs.io/en/latest/src/how_to_guides/use_optimizers.html)\n",
    "- API reference:\n",
    "  - [<code>mitsuba.ad.Optimizer</code>](https://mitsuba.readthedocs.io/en/latest/src/api_reference.html#mitsuba.ad.Optimizer)\n",
    "  - [<code>mitsuba.ad.integrators.prb</code>](https://mitsuba.readthedocs.io/en/latest/src/api_reference.html#mitsuba.ad.integrators.prb)\n",
    "  - [<code>mitsuba.ad.SGD</code>](https://mitsuba.readthedocs.io/en/latest/src/api_reference.html#mitsuba.ad.SGD)\n",
    "  - [<code>mitsuba.ad.Adam</code>](https://mitsuba.readthedocs.io/en/latest/src/api_reference.html#mitsuba.ad.Adam)\n",
    "  - [<code>drjit.backward</code>](https://drjit.readthedocs.io/en/latest/src/api_reference.html#drjit.backward)"
   ]
  }
 ],
 "metadata": {
  "file_extension": ".py",
  "kernelspec": {
   "display_name": "Python 3 (ipykernel)",
   "language": "python",
   "name": "python3"
  },
  "language_info": {
   "codemirror_mode": {
    "name": "ipython",
    "version": 3
   },
   "file_extension": ".py",
   "mimetype": "text/x-python",
   "name": "python",
   "nbconvert_exporter": "python",
   "pygments_lexer": "ipython3",
   "version": "3.9.16"
  },
  "metadata": {
   "interpreter": {
    "hash": "31f2aee4e71d21fbe5cf8b01ff0e069b9275f58929596ceb00d14d90e3e16cd6"
   }
  },
  "mimetype": "text/x-python",
  "name": "python",
  "npconvert_exporter": "python",
  "pygments_lexer": "ipython3",
  "version": 3
 },
 "nbformat": 4,
 "nbformat_minor": 4
}
