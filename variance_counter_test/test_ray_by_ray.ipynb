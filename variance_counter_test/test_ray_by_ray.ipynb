{
 "cells": [
  {
   "cell_type": "markdown",
   "id": "7ef4c40c",
   "metadata": {},
   "source": [
    "### Description\n",
    "\n",
    "This notebook is the validation of the `grad2` and `counting number` accumulated in the ad graph. \n",
    "\\\n",
    "We verify these terms by comparing those we obtian from rendering the entire image and those we obtain from rendering with only one single ray. For simplicity we use direct illumination."
   ]
  },
  {
   "cell_type": "code",
   "execution_count": 1,
   "id": "6f2edef8",
   "metadata": {},
   "outputs": [],
   "source": [
    "import mitsuba as mi\n",
    "import drjit as dr\n",
    "import matplotlib.pyplot as plt\n",
    "import numpy as np\n",
    "\n",
    "\n",
    "mi.set_variant('llvm_ad_rgb')\n",
    "\n",
    "scene = mi.load_file('scenes/cbox_ray.xml')\n",
    "\n"
   ]
  },
  {
   "attachments": {},
   "cell_type": "markdown",
   "id": "7d0f7369",
   "metadata": {},
   "source": [
    "Camera settings"
   ]
  },
  {
   "cell_type": "code",
   "execution_count": 2,
   "id": "ce2f2ddf",
   "metadata": {},
   "outputs": [],
   "source": [
    "ambient_range = 0.75\n",
    "ambient_ray_count = 256\n",
    "\n",
    "# Camera origin in world space\n",
    "cam_origin = mi.Point3f(0, 1, 3)\n",
    "\n",
    "# Camera view direction in world space\n",
    "cam_dir = dr.normalize(mi.Vector3f(0, -0.5, -1))\n",
    "\n",
    "# Camera width and height in world space\n",
    "cam_width  = 2.0\n",
    "cam_height = 2.0\n"
   ]
  },
  {
   "attachments": {},
   "cell_type": "markdown",
   "id": "564a9028",
   "metadata": {},
   "source": [
    "Ray set generation given image resolution"
   ]
  },
  {
   "cell_type": "code",
   "execution_count": 3,
   "id": "380f4d14-2afb-4e88-8d2c-b572e2511a35",
   "metadata": {},
   "outputs": [],
   "source": [
    "def get_ray_origin(image_res_):\n",
    "    # Construct a grid of 2D coordinates\n",
    "    x, y = dr.meshgrid(\n",
    "    dr.linspace(mi.Float, -cam_width  / 2,   cam_width / 2, image_res_[0]),\n",
    "    dr.linspace(mi.Float, -cam_height / 2,  cam_height / 2, image_res_[1])\n",
    "    )\n",
    "\n",
    "    # Ray origin in local coordinates\n",
    "    ray_origin_local = mi.Vector3f(x, y, 0)\n",
    "\n",
    "    # Ray origin in world coordinates\n",
    "    ray_origin_ = mi.Frame3f(cam_dir).to_world(ray_origin_local) + cam_origin\n",
    "    return ray_origin_\n",
    "\n"
   ]
  },
  {
   "attachments": {},
   "cell_type": "markdown",
   "id": "c3b484d2",
   "metadata": {},
   "source": [
    "Ambient occlusion"
   ]
  },
  {
   "cell_type": "code",
   "execution_count": 4,
   "id": "66ec9173",
   "metadata": {},
   "outputs": [],
   "source": [
    "def run(si):\n",
    "    # Loop iteration counter\n",
    "    i = mi.UInt32(0)\n",
    "\n",
    "    # Accumulated result\n",
    "    result = mi.Float(0)\n",
    "\n",
    "    # Initialize the loop state (listing all variables that are modified inside the loop)\n",
    "    loop = mi.Loop(name=\"\", state=lambda: (rng, i, result))\n",
    "\n",
    "    while loop(si.is_valid() & (i < ambient_ray_count)):\n",
    "        # 1. Draw some random numbers\n",
    "        sample_1, sample_2 = rng.next_float32(), rng.next_float32()\n",
    "        \n",
    "        # 2. Compute directions on the hemisphere using the random numbers\n",
    "        wo_local = mi.warp.square_to_uniform_hemisphere([sample_1, sample_2])\n",
    "\n",
    "        # Alternatively, we could also sample a cosine-weighted hemisphere\n",
    "        # wo_local = mi.warp.square_to_cosine_hemisphere([sample_1, sample_2])\n",
    "        \n",
    "        # 3. Transform the sampled directions to world space\n",
    "        wo_world = si.sh_frame.to_world(wo_local)\n",
    "\n",
    "        # 4. Spawn a new ray starting at the surface interactions\n",
    "        ray_2 = si.spawn_ray(wo_world)\n",
    "        \n",
    "        # 5. Set a maximum intersection distance to only account for the close-by geometry\n",
    "        ray_2.maxt = ambient_range\n",
    "\n",
    "        # 6. Accumulate a value of 1 if not occluded (0 otherwise)\n",
    "        result[~scene.ray_test(ray_2)] += 1.0\n",
    "        \n",
    "        # 7. Increase loop iteration counter\n",
    "        i += 1\n",
    "\n",
    "    # Divide the result by the number of samples\n",
    "    result = result / ambient_ray_count\n",
    "    return result\n"
   ]
  },
  {
   "attachments": {},
   "cell_type": "markdown",
   "id": "114171b4",
   "metadata": {},
   "source": [
    "Direct illumination"
   ]
  },
  {
   "cell_type": "code",
   "execution_count": 5,
   "id": "10ba6b54",
   "metadata": {},
   "outputs": [],
   "source": [
    "def mis_weight(pdf_a, pdf_b):\n",
    "    \"\"\"\n",
    "    Compute the Multiple Importance Sampling (MIS) weight given the densities\n",
    "    of two sampling strategies according to the power heuristic.\n",
    "    \"\"\"\n",
    "    a2 = dr.sqr(pdf_a)\n",
    "    b2 = dr.sqr(pdf_b)\n",
    "    w = a2 / (a2 + b2)\n",
    "    return dr.detach(dr.select(dr.isfinite(w), w, 0))\n",
    "\n",
    "def direct(si,ray):\n",
    "    # Initialize the random number generator\n",
    "    rng = mi.PCG32(size=1)\n",
    "\n",
    "    # Loop iteration counter\n",
    "    i = mi.UInt32(0)\n",
    "\n",
    "    # Accumulated result\n",
    "    result = mi.Color3f(0.0)\n",
    "    max_depth = 1\n",
    "\n",
    "    active = si.is_valid()\n",
    "\n",
    "    # Initialize the loop state (listing all variables that are modified inside the loop)\n",
    "    # loop = mi.Loop(name=\"\", state=lambda: (rng, i, result, ray, active))\n",
    "\n",
    "    # while loop(active & (i < max_depth)):\n",
    "    ray_reparam = mi.Ray3f(dr.detach(ray))\n",
    "    bsdf_ctx = mi.BSDFContext()\n",
    "\n",
    "    # ---------------------- Direct emission ----------------------\n",
    "    si = scene.ray_intersect(ray_reparam, active)\n",
    "    result += si.emitter(scene).eval(si)\n",
    "\n",
    "    # ------------------ Emitter sampling -------------------\n",
    "\n",
    "    # Should we continue tracing to reach one more vertex?\n",
    "    active_next = si.is_valid()\n",
    "    # Get the BSDF. Potentially computes texture-space differentials.\n",
    "    bsdf = si.bsdf(ray)\n",
    "\n",
    "    # Detached emitter sample\n",
    "    active_em = active_next & mi.has_flag(\n",
    "        bsdf.flags(), mi.BSDFFlags.Smooth)\n",
    "    sample_2d = mi.Point2f(rng.next_float32(), rng.next_float32())\n",
    "\n",
    "    ds, weight_em = scene.sample_emitter_direction(\n",
    "            si, sample_2d, True, active_em)\n",
    "    active_em &= dr.neq(ds.pdf, 0.0)\n",
    "    \n",
    "    # Reparameterize the ray\n",
    "    ray_em_det = 1.0\n",
    "    \n",
    "    # Compute MIS\n",
    "    wo = si.to_local(ds.d)\n",
    "    bsdf_value_em, bsdf_pdf_em = bsdf.eval_pdf(bsdf_ctx, si, wo, active_em)\n",
    "    mis_em = dr.select(ds.delta, 1.0, mis_weight(ds.pdf, bsdf_pdf_em))\n",
    "\n",
    "    result += bsdf_value_em * weight_em * ray_em_det * mis_em\n",
    "\n",
    "    # ------------------ BSDF sampling -------------------\n",
    "\n",
    "    # Detached BSDF sample\n",
    "\n",
    "    sample_2d = mi.Point2f(rng.next_float32(active_next), rng.next_float32(active_next))\n",
    "    bsdf_sample, bsdf_weight = bsdf.sample(bsdf_ctx, si, rng.next_float32(active_next),\n",
    "                                            sample_2d, active_next)\n",
    "    ray_bsdf = si.spawn_ray(si.to_world(bsdf_sample.wo))\n",
    "    active_bsdf = active_next & dr.any(dr.neq(bsdf_weight, 0.0))\n",
    "\n",
    "    # Reparameterize the ray\n",
    "    ray_bsdf_det = 1.0\n",
    "    \n",
    "    # Illumination\n",
    "    si_bsdf = scene.ray_intersect(ray_bsdf, active_bsdf)\n",
    "    L_bsdf = si_bsdf.emitter(scene).eval(si_bsdf, active_bsdf)\n",
    "\n",
    "    # Compute MIS\n",
    "    ds = mi.DirectionSample3f(scene, si_bsdf, si)\n",
    "    delta = mi.has_flag(bsdf_sample.sampled_type, mi.BSDFFlags.Delta)\n",
    "    emitter_pdf = scene.pdf_emitter_direction(\n",
    "        si, ds, active_bsdf & ~delta)\n",
    "    mis_bsdf = mis_weight(bsdf_sample.pdf, emitter_pdf)\n",
    "\n",
    "    result += L_bsdf * bsdf_weight * ray_bsdf_det * mis_bsdf\n",
    "    # print(dr.width(result))\n",
    "    \n",
    "    # result += L_bsdf * bsdf_weight  # MASKED FOR ACCEPTED STATES\n",
    "\n",
    "    i+=1\n",
    "\n",
    "    # # Divide the result by the number of samples\n",
    "    # result = result / ambient_ray_count\n",
    "    return result\n"
   ]
  },
  {
   "cell_type": "code",
   "execution_count": 6,
   "id": "b46bc639",
   "metadata": {},
   "outputs": [],
   "source": [
    "def mse(img, ref):\n",
    "    return dr.mean(dr.sqr(img - ref))"
   ]
  },
  {
   "attachments": {},
   "cell_type": "markdown",
   "id": "c1446c49",
   "metadata": {},
   "source": [
    "High res image \n",
    "\\\n",
    "256*256 , just to show the clear testing scene"
   ]
  },
  {
   "cell_type": "code",
   "execution_count": 7,
   "id": "9b9dcd0c",
   "metadata": {},
   "outputs": [
    {
     "data": {
      "text/html": [
       "<img src=\"data:image/png;base64, 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\"width=\"250vm\" />"
      ],
      "text/plain": [
       "Bitmap[\n",
       "  pixel_format = rgb,\n",
       "  component_format = uint8,\n",
       "  size = [256, 256],\n",
       "  srgb_gamma = 1,\n",
       "  struct = Struct<3>[\n",
       "    uint8 R; // @0, normalized, gamma, premultiplied alpha\n",
       "    uint8 G; // @1, normalized, gamma, premultiplied alpha\n",
       "    uint8 B; // @2, normalized, gamma, premultiplied alpha\n",
       "  ],\n",
       "  data = [ 192 KiB of image data ]\n",
       "]"
      ]
     },
     "execution_count": 7,
     "metadata": {},
     "output_type": "execute_result"
    }
   ],
   "source": [
    "image_res = [256,256]\n",
    "ray_origin_h= get_ray_origin(image_res)\n",
    "ray_h = mi.Ray3f(o=ray_origin_h, d=cam_dir)\n",
    "si_h = scene.ray_intersect(ray_h)\n",
    "\n",
    "img_h = direct(si_h,ray_h)\n",
    "img_h_np = np.array(img_h).reshape(image_res[0], image_res[1], 3)\n",
    "img_h_np = mi.TensorXf(img_h_np)\n",
    "mi.util.convert_to_bitmap(img_h_np)"
   ]
  },
  {
   "attachments": {},
   "cell_type": "markdown",
   "id": "4af85222",
   "metadata": {},
   "source": [
    "Validation is done on low res 10 * 10"
   ]
  },
  {
   "cell_type": "code",
   "execution_count": 8,
   "id": "f545a61e",
   "metadata": {},
   "outputs": [],
   "source": [
    "image_res = [10,10]\n",
    "ray_origin= get_ray_origin(image_res)\n",
    "\n"
   ]
  },
  {
   "attachments": {},
   "cell_type": "markdown",
   "id": "97ee20b1",
   "metadata": {},
   "source": [
    "##### 1. Initial image\n",
    "\\\n",
    "Res: 10 * 10, with the entire ray set"
   ]
  },
  {
   "cell_type": "code",
   "execution_count": 9,
   "id": "26e12585",
   "metadata": {},
   "outputs": [
    {
     "data": {
      "text/html": [
       "<img src=\"data:image/png;base64, iVBORw0KGgoAAAANSUhEUgAAAAoAAAAKEAIAAABSwISpAAAABGdBTUEAALGPC/xhBQAAAAFzUkdCAzfHTVMAAAAgY0hSTQAAeiYAAICEAAD6AAAAgOgAAHUwAADqYAAAOpgAABdwnLpRPAAAACR0RVh0Z2VuZXJhdGVkX2J5ACJNaXRzdWJhIHZlcnNpb24gMy4zLjAiZsCOiQAAAVhJREFUKFOlkb2KwkAQgDdmsxp/AocowjU2ChZWtmJnqXBgZZ7AShTxAYTrBEsRLO4xrjjuTcRCbCyUkLg/M5vNFWmu8SzuK6b7YOYbQv6BtVj4fq/necViLud5hYLr5nKMUWrbtp3JIGodx5wLAXC7hSHnQRBFUgZBGHJOw5BzpYxJkiRRCkBrxhyHUssihBBjjEkSKQEQOZcSgHMhlAJAjGN6vwuhlNZax/F47Pv9fqNRr9dqruu6jM3ny+VuhxjHxqSKlEohCgGAaL299XqtFmOMUZrPv7x4XqVSLnteur4QUgKcTofD+YyotTEAiFqnk7bbzebr62q13399PQozmVSrpdLxyLlSnc5o1O3e71ICZLJZx6F0s5nNhsNH8nZ7uYTh52cUAby/f3x8fzPmOLZtPRJ+s15Pp4NBem0aLy1Fn4mEEHK9BkEUpYWVQtQ6/csz709+ABRx5dqJ3zmLAAAAAElFTkSuQmCC\"width=\"250vm\" />"
      ],
      "text/plain": [
       "Bitmap[\n",
       "  pixel_format = rgb,\n",
       "  component_format = uint8,\n",
       "  size = [10, 10],\n",
       "  srgb_gamma = 1,\n",
       "  struct = Struct<3>[\n",
       "    uint8 R; // @0, normalized, gamma, premultiplied alpha\n",
       "    uint8 G; // @1, normalized, gamma, premultiplied alpha\n",
       "    uint8 B; // @2, normalized, gamma, premultiplied alpha\n",
       "  ],\n",
       "  data = [ 300 B of image data ]\n",
       "]"
      ]
     },
     "execution_count": 9,
     "metadata": {},
     "output_type": "execute_result"
    }
   ],
   "source": [
    "ray_set = mi.Ray3f(o=ray_origin, d=cam_dir)\n",
    "si_set = scene.ray_intersect(ray_set)\n",
    "\n",
    "img_ref = direct(si_set,ray_set)\n",
    "img_ref_np = np.array(img_ref).reshape(image_res[0], image_res[1], 3)\n",
    "img_ref_np = mi.TensorXf(img_ref_np)\n",
    "mi.util.convert_to_bitmap(img_ref_np)"
   ]
  },
  {
   "attachments": {},
   "cell_type": "markdown",
   "id": "16c7f1c7",
   "metadata": {},
   "source": [
    "##### 2. Change the color of green to blue"
   ]
  },
  {
   "cell_type": "code",
   "execution_count": 10,
   "id": "b10f9721",
   "metadata": {},
   "outputs": [],
   "source": [
    "params = mi.traverse(scene)\n",
    "# key = 'green.reflectance.value'\n",
    "key = 'color_checkerboard.color0.value'\n",
    "\n",
    "# Save the original value\n",
    "param_ref = mi.Color3f(params[key])\n",
    "\n",
    "# Set another color value and update the scene\n",
    "params[key] = mi.Color3f(0.01, 0.2, 0.9)\n",
    "dr.enable_grad(params[key])\n",
    "params.update();"
   ]
  },
  {
   "attachments": {},
   "cell_type": "markdown",
   "id": "0e0b84d9",
   "metadata": {},
   "source": [
    "##### 3. The changed image\n",
    "Here the image is rendered with the entire ray set\n",
    "\\\n",
    "grad, grad2, counter is also recorded"
   ]
  },
  {
   "cell_type": "code",
   "execution_count": 11,
   "id": "92233ddb",
   "metadata": {},
   "outputs": [
    {
     "data": {
      "text/html": [
       "<img src=\"data:image/png;base64, iVBORw0KGgoAAAANSUhEUgAAAAoAAAAKEAIAAABSwISpAAAABGdBTUEAALGPC/xhBQAAAAFzUkdCAzfHTVMAAAAgY0hSTQAAeiYAAICEAAD6AAAAgOgAAHUwAADqYAAAOpgAABdwnLpRPAAAACR0RVh0Z2VuZXJhdGVkX2J5ACJNaXRzdWJhIHZlcnNpb24gMy4zLjAiZsCOiQAAAU5JREFUKFOlkb1OAkEURmd3Z0YE3FBJYW9nZUvkCaDBjocgJDwBiR0JpYmx2MewIL6GpTUUmGV2Z+b+zKzFNjZo4Slud4rvXCH+QbJazecPD3ne73c6ed7rXV52OlpLmWVZlqZEzCFY6xzi15cx1pZlVXlflsZYK42xFiDGpmkaAERmrZWSMkmEECLGGJvGe0Qia71HtNY5AESiEGRdOwfAzBxCUTCPx0oNBsNhmiql9Wy23xcFUQgxtor3AETOIRLJurYWgEjrEE6nj4/dLk273TxPEimVenlh7vdns+FwvydijhGRiLm98u7u9vbmZr1+fd3tzoUZDK6vr64+P60FuL9/fByN6tp7xPTiQikpt9vlcjo9Jz8/Hw7GvL1VFeLTU1G8v2utVJYl54SfbDaLxWTSrm3jtaXkX6IQQhyPZVlVbWEAIub2L395v/INa8vuk5rAPAEAAAAASUVORK5CYII=\"width=\"250vm\" />"
      ],
      "text/plain": [
       "Bitmap[\n",
       "  pixel_format = rgb,\n",
       "  component_format = uint8,\n",
       "  size = [10, 10],\n",
       "  srgb_gamma = 1,\n",
       "  struct = Struct<3>[\n",
       "    uint8 R; // @0, normalized, gamma, premultiplied alpha\n",
       "    uint8 G; // @1, normalized, gamma, premultiplied alpha\n",
       "    uint8 B; // @2, normalized, gamma, premultiplied alpha\n",
       "  ],\n",
       "  data = [ 300 B of image data ]\n",
       "]"
      ]
     },
     "execution_count": 11,
     "metadata": {},
     "output_type": "execute_result"
    }
   ],
   "source": [
    "dr.set_grad(params[key], 0)\n",
    "si_init = scene.ray_intersect(ray_set)\n",
    "img_init = direct(si_set,ray_set)\n",
    "img_init_np = np.array(img_init).reshape(image_res[0], image_res[1], 3)\n",
    "img_init_np = mi.TensorXf(img_init_np)\n",
    "mi.util.convert_to_bitmap(img_init_np)"
   ]
  },
  {
   "cell_type": "code",
   "execution_count": 12,
   "id": "a8825f08",
   "metadata": {},
   "outputs": [
    {
     "name": "stdout",
     "output_type": "stream",
     "text": [
      "[[-1.43948507 -0.6731441  -0.01961632]]\n",
      "[[6.85627639e-01 1.49930492e-01 1.27323656e-04]]\n",
      "[[7. 7. 7.]]\n"
     ]
    }
   ],
   "source": [
    "loss = mse(img_init,img_ref)\n",
    "# Backpropagate through the rendering process\n",
    "dr.backward(loss, flags = dr.ADFlag.BackPropVarianceCounter | dr.ADFlag.ClearVertices)\n",
    "g = dr.grad(params[key])\n",
    "g2 = dr.grad2(params[key])\n",
    "c = dr.counter(params[key])\n",
    "g = np.array(g, dtype=np.float64)\n",
    "g2 = np.array(g2, dtype=np.float64)\n",
    "c = np.array(c, dtype=np.float64)\n",
    "print(g)\n",
    "print(g2)\n",
    "print(c)"
   ]
  },
  {
   "attachments": {},
   "cell_type": "markdown",
   "id": "aee425a1",
   "metadata": {},
   "source": [
    "##### 4. Ray by ray rendering\n",
    "The image is rendered 1 ray 1 pixel per iteration, and accumulated to form the final rendering. It should be the same as the image rendered with the entire ray set.\n",
    "\\\n",
    "Here the loss is the mse between the rendered pixel and the corresponding pixel in the init_image.\n",
    "The grad, grad2, counter, computed for each pixel is recorded."
   ]
  },
  {
   "cell_type": "code",
   "execution_count": 13,
   "id": "c928b0ae",
   "metadata": {},
   "outputs": [],
   "source": [
    "ray_by_ray = []\n",
    "grads = []\n",
    "grad2s = []\n",
    "counters = []\n",
    "for i in range(image_res[0]*image_res[1]):\n",
    "    dr.set_grad(params[key], 0)\n",
    "    ray2 = mi.Ray3f(o=dr.slice(ray_origin,i), d=cam_dir)\n",
    "    si2 = scene.ray_intersect(ray2)\n",
    "    temp = direct(si2,ray2)\n",
    "    dr.eval(temp)\n",
    "    loss = mse(temp,dr.slice(img_ref,i))\n",
    "    dr.backward(loss, flags = dr.ADFlag.BackPropVarianceCounter | dr.ADFlag.ClearVertices)\n",
    "    g_ = np.array(dr.grad(params[key]))\n",
    "    g2_ = np.array(dr.grad2(params[key]))\n",
    "    c_ = np.array(dr.counter(params[key]))\n",
    "    grads.append(g_)\n",
    "    grad2s.append(g2_)\n",
    "    counters.append(c_)\n",
    "    # print(temp)\n",
    "    ray_by_ray.append(temp)\n"
   ]
  },
  {
   "cell_type": "code",
   "execution_count": 14,
   "id": "5073bd94",
   "metadata": {},
   "outputs": [
    {
     "data": {
      "text/html": [
       "<img src=\"data:image/png;base64, iVBORw0KGgoAAAANSUhEUgAAAAoAAAAKEAIAAABSwISpAAAABGdBTUEAALGPC/xhBQAAAAFzUkdCAzfHTVMAAAAgY0hSTQAAeiYAAICEAAD6AAAAgOgAAHUwAADqYAAAOpgAABdwnLpRPAAAACR0RVh0Z2VuZXJhdGVkX2J5ACJNaXRzdWJhIHZlcnNpb24gMy4zLjAiZsCOiQAAAU5JREFUKFOlkb1OAkEURmd3Z0YE3FBJYW9nZUvkCaDBjocgJDwBiR0JpYmx2MewIL6GpTUUmGV2Z+b+zKzFNjZo4Slud4rvXCH+QbJazecPD3ne73c6ed7rXV52OlpLmWVZlqZEzCFY6xzi15cx1pZlVXlflsZYK42xFiDGpmkaAERmrZWSMkmEECLGGJvGe0Qia71HtNY5AESiEGRdOwfAzBxCUTCPx0oNBsNhmiql9Wy23xcFUQgxtor3AETOIRLJurYWgEjrEE6nj4/dLk273TxPEimVenlh7vdns+FwvydijhGRiLm98u7u9vbmZr1+fd3tzoUZDK6vr64+P60FuL9/fByN6tp7xPTiQikpt9vlcjo9Jz8/Hw7GvL1VFeLTU1G8v2utVJYl54SfbDaLxWTSrm3jtaXkX6IQQhyPZVlVbWEAIub2L395v/INa8vuk5rAPAEAAAAASUVORK5CYII=\"width=\"250vm\" />"
      ],
      "text/plain": [
       "Bitmap[\n",
       "  pixel_format = rgb,\n",
       "  component_format = uint8,\n",
       "  size = [10, 10],\n",
       "  srgb_gamma = 1,\n",
       "  struct = Struct<3>[\n",
       "    uint8 R; // @0, normalized, gamma, premultiplied alpha\n",
       "    uint8 G; // @1, normalized, gamma, premultiplied alpha\n",
       "    uint8 B; // @2, normalized, gamma, premultiplied alpha\n",
       "  ],\n",
       "  data = [ 300 B of image data ]\n",
       "]"
      ]
     },
     "execution_count": 14,
     "metadata": {},
     "output_type": "execute_result"
    }
   ],
   "source": [
    "img_rbr_np = np.array(ray_by_ray).reshape(image_res[0], image_res[1], 3)\n",
    "img_rbr_np = mi.TensorXf(img_rbr_np)\n",
    "mi.util.convert_to_bitmap(img_rbr_np)"
   ]
  },
  {
   "attachments": {},
   "cell_type": "markdown",
   "id": "cd4a4e27",
   "metadata": {},
   "source": [
    "##### 5. Results\n",
    "\n",
    "a. The image rendered ray by ray should be the same as the one rendered with the entire ray set.\n",
    "\\\n",
    "b. The sum of grads, grad2s, and counters (recorded in ray by ray process), should be the same as the grad, grad2, and counter we get from the rendering with ray set process."
   ]
  },
  {
   "cell_type": "code",
   "execution_count": 15,
   "id": "735c852a",
   "metadata": {},
   "outputs": [
    {
     "name": "stdout",
     "output_type": "stream",
     "text": [
      "[[-1.43948518 -0.67314406 -0.01961632]]\n",
      "[[-1.43948507 -0.6731441  -0.01961632]]\n",
      "\n",
      "[[6.85627675e-01 1.49930497e-01 1.27323653e-04]]\n",
      "[[6.85627639e-01 1.49930492e-01 1.27323656e-04]]\n",
      "\n",
      "[[7. 7. 7.]]\n",
      "[[7. 7. 7.]]\n"
     ]
    }
   ],
   "source": [
    "print(np.array(grads,dtype=np.float64).sum(axis=0))\n",
    "print(g)\n",
    "print()\n",
    "\n",
    "print(np.array(grad2s,dtype=np.float64).sum(axis=0))\n",
    "print(g2)\n",
    "print()\n",
    "\n",
    "\n",
    "print(np.array(counters, dtype=np.float64).sum(axis=0))\n",
    "print(c)"
   ]
  },
  {
   "cell_type": "code",
   "execution_count": 16,
   "id": "6da6c79c",
   "metadata": {},
   "outputs": [
    {
     "name": "stdout",
     "output_type": "stream",
     "text": [
      "[0.0]\n"
     ]
    }
   ],
   "source": [
    "print(mse(img_rbr_np, img_init_np))"
   ]
  }
 ],
 "metadata": {
  "celltoolbar": "Edit Metadata",
  "kernelspec": {
   "display_name": "Python 3 (ipykernel)",
   "language": "python",
   "name": "python3"
  },
  "language_info": {
   "codemirror_mode": {
    "name": "ipython",
    "version": 3
   },
   "file_extension": ".py",
   "mimetype": "text/x-python",
   "name": "python",
   "nbconvert_exporter": "python",
   "pygments_lexer": "ipython3",
   "version": "3.9.16"
  }
 },
 "nbformat": 4,
 "nbformat_minor": 5
}
