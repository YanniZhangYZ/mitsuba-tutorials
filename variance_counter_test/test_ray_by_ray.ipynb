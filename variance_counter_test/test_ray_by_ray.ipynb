{
 "cells": [
  {
   "cell_type": "code",
   "execution_count": 1,
   "id": "6f2edef8",
   "metadata": {},
   "outputs": [],
   "source": [
    "import mitsuba as mi\n",
    "import drjit as dr\n",
    "import matplotlib.pyplot as plt\n",
    "import numpy as np\n",
    "\n",
    "\n",
    "mi.set_variant('llvm_ad_rgb')\n",
    "\n",
    "scene = mi.load_file('/Users/yannizhang/Desktop/RGL/mitsuba3/tutorials/variance_counter_test/scenes/cbox_ray.xml')\n",
    "\n"
   ]
  },
  {
   "attachments": {},
   "cell_type": "markdown",
   "id": "7d0f7369",
   "metadata": {},
   "source": [
    "Camera settings"
   ]
  },
  {
   "cell_type": "code",
   "execution_count": 2,
   "id": "ce2f2ddf",
   "metadata": {},
   "outputs": [],
   "source": [
    "ambient_range = 0.75\n",
    "ambient_ray_count = 256\n",
    "\n",
    "# Camera origin in world space\n",
    "cam_origin = mi.Point3f(0, 1, 3)\n",
    "\n",
    "# Camera view direction in world space\n",
    "cam_dir = dr.normalize(mi.Vector3f(0, -0.5, -1))\n",
    "\n",
    "# Camera width and height in world space\n",
    "cam_width  = 2.0\n",
    "cam_height = 2.0\n"
   ]
  },
  {
   "attachments": {},
   "cell_type": "markdown",
   "id": "564a9028",
   "metadata": {},
   "source": [
    "Ray set generation given image resolution"
   ]
  },
  {
   "cell_type": "code",
   "execution_count": 3,
   "id": "380f4d14-2afb-4e88-8d2c-b572e2511a35",
   "metadata": {},
   "outputs": [],
   "source": [
    "def get_ray_origin(image_res_):\n",
    "    # Construct a grid of 2D coordinates\n",
    "    x, y = dr.meshgrid(\n",
    "    dr.linspace(mi.Float, -cam_width  / 2,   cam_width / 2, image_res_[0]),\n",
    "    dr.linspace(mi.Float, -cam_height / 2,  cam_height / 2, image_res_[1])\n",
    "    )\n",
    "\n",
    "    # Ray origin in local coordinates\n",
    "    ray_origin_local = mi.Vector3f(x, y, 0)\n",
    "\n",
    "    # Ray origin in world coordinates\n",
    "    ray_origin_ = mi.Frame3f(cam_dir).to_world(ray_origin_local) + cam_origin\n",
    "    return ray_origin_\n",
    "\n"
   ]
  },
  {
   "attachments": {},
   "cell_type": "markdown",
   "id": "c3b484d2",
   "metadata": {},
   "source": [
    "Ambient occlusion"
   ]
  },
  {
   "cell_type": "code",
   "execution_count": 4,
   "id": "66ec9173",
   "metadata": {},
   "outputs": [],
   "source": [
    "def run(si):\n",
    "    # Loop iteration counter\n",
    "    i = mi.UInt32(0)\n",
    "\n",
    "    # Accumulated result\n",
    "    result = mi.Float(0)\n",
    "\n",
    "    # Initialize the loop state (listing all variables that are modified inside the loop)\n",
    "    loop = mi.Loop(name=\"\", state=lambda: (rng, i, result))\n",
    "\n",
    "    while loop(si.is_valid() & (i < ambient_ray_count)):\n",
    "        # 1. Draw some random numbers\n",
    "        sample_1, sample_2 = rng.next_float32(), rng.next_float32()\n",
    "        \n",
    "        # 2. Compute directions on the hemisphere using the random numbers\n",
    "        wo_local = mi.warp.square_to_uniform_hemisphere([sample_1, sample_2])\n",
    "\n",
    "        # Alternatively, we could also sample a cosine-weighted hemisphere\n",
    "        # wo_local = mi.warp.square_to_cosine_hemisphere([sample_1, sample_2])\n",
    "        \n",
    "        # 3. Transform the sampled directions to world space\n",
    "        wo_world = si.sh_frame.to_world(wo_local)\n",
    "\n",
    "        # 4. Spawn a new ray starting at the surface interactions\n",
    "        ray_2 = si.spawn_ray(wo_world)\n",
    "        \n",
    "        # 5. Set a maximum intersection distance to only account for the close-by geometry\n",
    "        ray_2.maxt = ambient_range\n",
    "\n",
    "        # 6. Accumulate a value of 1 if not occluded (0 otherwise)\n",
    "        result[~scene.ray_test(ray_2)] += 1.0\n",
    "        \n",
    "        # 7. Increase loop iteration counter\n",
    "        i += 1\n",
    "\n",
    "    # Divide the result by the number of samples\n",
    "    result = result / ambient_ray_count\n",
    "    return result\n"
   ]
  },
  {
   "attachments": {},
   "cell_type": "markdown",
   "id": "114171b4",
   "metadata": {},
   "source": [
    "Direct illumination"
   ]
  },
  {
   "cell_type": "code",
   "execution_count": 5,
   "id": "10ba6b54",
   "metadata": {},
   "outputs": [],
   "source": [
    "def mis_weight(pdf_a, pdf_b):\n",
    "    \"\"\"\n",
    "    Compute the Multiple Importance Sampling (MIS) weight given the densities\n",
    "    of two sampling strategies according to the power heuristic.\n",
    "    \"\"\"\n",
    "    a2 = dr.sqr(pdf_a)\n",
    "    b2 = dr.sqr(pdf_b)\n",
    "    w = a2 / (a2 + b2)\n",
    "    return dr.detach(dr.select(dr.isfinite(w), w, 0))\n",
    "\n",
    "def direct(si,ray):\n",
    "    # Initialize the random number generator\n",
    "    rng = mi.PCG32(size=1)\n",
    "\n",
    "    # Loop iteration counter\n",
    "    i = mi.UInt32(0)\n",
    "\n",
    "    # Accumulated result\n",
    "    result = mi.Color3f(0.0)\n",
    "    max_depth = 1\n",
    "\n",
    "    active = si.is_valid()\n",
    "\n",
    "    # Initialize the loop state (listing all variables that are modified inside the loop)\n",
    "    # loop = mi.Loop(name=\"\", state=lambda: (rng, i, result, ray, active))\n",
    "\n",
    "    # while loop(active & (i < max_depth)):\n",
    "    ray_reparam = mi.Ray3f(dr.detach(ray))\n",
    "    bsdf_ctx = mi.BSDFContext()\n",
    "\n",
    "    # ---------------------- Direct emission ----------------------\n",
    "    si = scene.ray_intersect(ray_reparam, active)\n",
    "    result += si.emitter(scene).eval(si)\n",
    "\n",
    "    # ------------------ Emitter sampling -------------------\n",
    "\n",
    "    # Should we continue tracing to reach one more vertex?\n",
    "    active_next = si.is_valid()\n",
    "    # Get the BSDF. Potentially computes texture-space differentials.\n",
    "    bsdf = si.bsdf(ray)\n",
    "\n",
    "    # Detached emitter sample\n",
    "    active_em = active_next & mi.has_flag(\n",
    "        bsdf.flags(), mi.BSDFFlags.Smooth)\n",
    "    sample_2d = mi.Point2f(rng.next_float32(), rng.next_float32())\n",
    "\n",
    "    ds, weight_em = scene.sample_emitter_direction(\n",
    "            si, sample_2d, True, active_em)\n",
    "    active_em &= dr.neq(ds.pdf, 0.0)\n",
    "    \n",
    "    # Reparameterize the ray\n",
    "    ray_em_det = 1.0\n",
    "    \n",
    "    # Compute MIS\n",
    "    wo = si.to_local(ds.d)\n",
    "    bsdf_value_em, bsdf_pdf_em = bsdf.eval_pdf(bsdf_ctx, si, wo, active_em)\n",
    "    mis_em = dr.select(ds.delta, 1.0, mis_weight(ds.pdf, bsdf_pdf_em))\n",
    "\n",
    "    result += bsdf_value_em * weight_em * ray_em_det * mis_em\n",
    "\n",
    "    # ------------------ BSDF sampling -------------------\n",
    "\n",
    "    # Detached BSDF sample\n",
    "\n",
    "    sample_2d = mi.Point2f(rng.next_float32(active_next), rng.next_float32(active_next))\n",
    "    bsdf_sample, bsdf_weight = bsdf.sample(bsdf_ctx, si, rng.next_float32(active_next),\n",
    "                                            sample_2d, active_next)\n",
    "    ray_bsdf = si.spawn_ray(si.to_world(bsdf_sample.wo))\n",
    "    active_bsdf = active_next & dr.any(dr.neq(bsdf_weight, 0.0))\n",
    "\n",
    "    # Reparameterize the ray\n",
    "    ray_bsdf_det = 1.0\n",
    "    \n",
    "    # Illumination\n",
    "    si_bsdf = scene.ray_intersect(ray_bsdf, active_bsdf)\n",
    "    L_bsdf = si_bsdf.emitter(scene).eval(si_bsdf, active_bsdf)\n",
    "\n",
    "    # Compute MIS\n",
    "    ds = mi.DirectionSample3f(scene, si_bsdf, si)\n",
    "    delta = mi.has_flag(bsdf_sample.sampled_type, mi.BSDFFlags.Delta)\n",
    "    emitter_pdf = scene.pdf_emitter_direction(\n",
    "        si, ds, active_bsdf & ~delta)\n",
    "    mis_bsdf = mis_weight(bsdf_sample.pdf, emitter_pdf)\n",
    "\n",
    "    result += L_bsdf * bsdf_weight * ray_bsdf_det * mis_bsdf\n",
    "    # print(dr.width(result))\n",
    "    \n",
    "    # result += L_bsdf * bsdf_weight  # MASKED FOR ACCEPTED STATES\n",
    "\n",
    "    i+=1\n",
    "\n",
    "    # # Divide the result by the number of samples\n",
    "    # result = result / ambient_ray_count\n",
    "    return result\n"
   ]
  },
  {
   "cell_type": "code",
   "execution_count": 6,
   "id": "b46bc639",
   "metadata": {},
   "outputs": [],
   "source": [
    "def mse(img, ref):\n",
    "    return dr.mean(dr.sqr(img - ref))"
   ]
  },
  {
   "attachments": {},
   "cell_type": "markdown",
   "id": "c1446c49",
   "metadata": {},
   "source": [
    "High res image \n",
    "\\\n",
    "256*256 , just to show the clear testing scene"
   ]
  },
  {
   "cell_type": "code",
   "execution_count": 7,
   "id": "9b9dcd0c",
   "metadata": {},
   "outputs": [
    {
     "data": {
      "text/html": [
       "<img src=\"data:image/png;base64, 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\"width=\"250vm\" />"
      ],
      "text/plain": [
       "Bitmap[\n",
       "  pixel_format = rgb,\n",
       "  component_format = uint8,\n",
       "  size = [256, 256],\n",
       "  srgb_gamma = 1,\n",
       "  struct = Struct<3>[\n",
       "    uint8 R; // @0, normalized, gamma, premultiplied alpha\n",
       "    uint8 G; // @1, normalized, gamma, premultiplied alpha\n",
       "    uint8 B; // @2, normalized, gamma, premultiplied alpha\n",
       "  ],\n",
       "  data = [ 192 KiB of image data ]\n",
       "]"
      ]
     },
     "execution_count": 7,
     "metadata": {},
     "output_type": "execute_result"
    }
   ],
   "source": [
    "image_res = [256,256]\n",
    "ray_origin_h= get_ray_origin(image_res)\n",
    "ray_h = mi.Ray3f(o=ray_origin_h, d=cam_dir)\n",
    "si_h = scene.ray_intersect(ray_h)\n",
    "\n",
    "img_h = direct(si_h,ray_h)\n",
    "img_h_np = np.array(img_h).reshape(image_res[0], image_res[1], 3)\n",
    "img_h_np = mi.TensorXf(img_h_np)\n",
    "mi.util.convert_to_bitmap(img_h_np)"
   ]
  },
  {
   "attachments": {},
   "cell_type": "markdown",
   "id": "4af85222",
   "metadata": {},
   "source": [
    "Validation is done on low res 10 * 10"
   ]
  },
  {
   "cell_type": "code",
   "execution_count": 8,
   "id": "f545a61e",
   "metadata": {},
   "outputs": [],
   "source": [
    "image_res = [10,10]\n",
    "ray_origin= get_ray_origin(image_res)\n",
    "\n"
   ]
  },
  {
   "attachments": {},
   "cell_type": "markdown",
   "id": "97ee20b1",
   "metadata": {},
   "source": [
    "##### 1. Initial image\n",
    "\\\n",
    "Res: 10 * 10, with the entire ray set"
   ]
  },
  {
   "cell_type": "code",
   "execution_count": 9,
   "id": "26e12585",
   "metadata": {},
   "outputs": [
    {
     "data": {
      "text/html": [
       "<img src=\"data:image/png;base64, iVBORw0KGgoAAAANSUhEUgAAAAoAAAAKEAIAAABSwISpAAAABGdBTUEAALGPC/xhBQAAAAFzUkdCAzfHTVMAAAAgY0hSTQAAeiYAAICEAAD6AAAAgOgAAHUwAADqYAAAOpgAABdwnLpRPAAAACR0RVh0Z2VuZXJhdGVkX2J5ACJNaXRzdWJhIHZlcnNpb24gMy4zLjAiZsCOiQAAAVlJREFUKFOlkb1qAkEQgPe8vdWLehBCgmCTRsHCylaus1QQUuWewCokBB9AsBNSmoCFj2EhvolYiI1FwrF3+zOzt5fimjQmRb5iug9mviHkHzivr1EUhkFQq1UqQVCt+n6lwhilruu6pRKiMVkmhJQAX1+cCxHHSaJUHHMuBOVcCK2tzfM81xrAGMY8j1LHIYQQa63Nc6UAEIVQCkAIKbUGQMwymqZSam2MMVn2+BhFg0GrdX/faPi+7zP28jKdfrwjZpnNC0UprRGlBEB0xuMw7HQYY4zSq6vr6yC4vb25CYJifSmVAjge9/vTCdEYawEQjSkm7Xbb7WZzNluttttLYSaTu7t6/XAQQute7+Gh309TpQBK5bLnUfr29vw8Gl2Sl8vzmfPNJkkA5vP1erdjzPNc17kk/GSxeHoaDotri3hFKfqXSAghn59xnCRFYa0RjSn+8pf3K98Ua+XaDh6MSAAAAABJRU5ErkJggg==\"width=\"250vm\" />"
      ],
      "text/plain": [
       "Bitmap[\n",
       "  pixel_format = rgb,\n",
       "  component_format = uint8,\n",
       "  size = [10, 10],\n",
       "  srgb_gamma = 1,\n",
       "  struct = Struct<3>[\n",
       "    uint8 R; // @0, normalized, gamma, premultiplied alpha\n",
       "    uint8 G; // @1, normalized, gamma, premultiplied alpha\n",
       "    uint8 B; // @2, normalized, gamma, premultiplied alpha\n",
       "  ],\n",
       "  data = [ 300 B of image data ]\n",
       "]"
      ]
     },
     "execution_count": 9,
     "metadata": {},
     "output_type": "execute_result"
    }
   ],
   "source": [
    "ray_set = mi.Ray3f(o=ray_origin, d=cam_dir)\n",
    "si_set = scene.ray_intersect(ray_set)\n",
    "\n",
    "img_ref = direct(si_set,ray_set)\n",
    "img_ref_np = np.array(img_ref).reshape(image_res[0], image_res[1], 3)\n",
    "img_ref_np = mi.TensorXf(img_ref_np)\n",
    "mi.util.convert_to_bitmap(img_ref_np)"
   ]
  },
  {
   "attachments": {},
   "cell_type": "markdown",
   "id": "16c7f1c7",
   "metadata": {},
   "source": [
    "##### 2. Change the color of green to blue"
   ]
  },
  {
   "cell_type": "code",
   "execution_count": 10,
   "id": "b10f9721",
   "metadata": {},
   "outputs": [],
   "source": [
    "params = mi.traverse(scene)\n",
    "# key = 'green.reflectance.value'\n",
    "key = 'color_checkerboard.color0.value'\n",
    "\n",
    "# Save the original value\n",
    "param_ref = mi.Color3f(params[key])\n",
    "\n",
    "# Set another color value and update the scene\n",
    "params[key] = mi.Color3f(0.01, 0.2, 0.9)\n",
    "dr.enable_grad(params[key])\n",
    "params.update();"
   ]
  },
  {
   "attachments": {},
   "cell_type": "markdown",
   "id": "0e0b84d9",
   "metadata": {},
   "source": [
    "##### 3. The changed image\n",
    "Here the image is rendered with the entire ray set\n",
    "\\\n",
    "grad, grad2, counter is also recorded"
   ]
  },
  {
   "cell_type": "code",
   "execution_count": 11,
   "id": "92233ddb",
   "metadata": {},
   "outputs": [
    {
     "data": {
      "text/html": [
       "<img src=\"data:image/png;base64, iVBORw0KGgoAAAANSUhEUgAAAAoAAAAKEAIAAABSwISpAAAABGdBTUEAALGPC/xhBQAAAAFzUkdCAzfHTVMAAAAgY0hSTQAAeiYAAICEAAD6AAAAgOgAAHUwAADqYAAAOpgAABdwnLpRPAAAACR0RVh0Z2VuZXJhdGVkX2J5ACJNaXRzdWJhIHZlcnNpb24gMy4zLjAiZsCOiQAAAVBJREFUKFOlkT1uwkAQRtf27mL+LFe4SE9HlRbBCUjjdDlEhMQJItEhUSJFkeJjUKBcI2VqKEDG9np3Znadwk0akiKvmO4V3xvG/oG3Wj09zWZRNBiEYRT1+91uGErJeRAEge8jElmrVF0DXC5FoVSel6XWeV4USvGiUMoY55qmaYwBIJJSCM49jzHGnHOuabQGQFRKawCl6toYAERreVXVtTFERNZmGdF8LkQcJ4nvCyFlmh6P2Tuita5pFa2NQaxrAEReVUoZgyiltdfr5+fh4Pu9XhR5HudCvL4SDYZpmiTHIyKRcwCIRO3lk8l4fHf38vL2djjcChPHo9Fw+PWllDH394+P02lVaQ3gdzpCcL7dLpcPD7fk3e50Kor9viwB1uss+/iQUogg8G4JP9lsnp8Xi3ZtG68txf8SGWPsfM7zsmwLG4NI1P7lL+9XvgFtD+6UOAlMZAAAAABJRU5ErkJggg==\"width=\"250vm\" />"
      ],
      "text/plain": [
       "Bitmap[\n",
       "  pixel_format = rgb,\n",
       "  component_format = uint8,\n",
       "  size = [10, 10],\n",
       "  srgb_gamma = 1,\n",
       "  struct = Struct<3>[\n",
       "    uint8 R; // @0, normalized, gamma, premultiplied alpha\n",
       "    uint8 G; // @1, normalized, gamma, premultiplied alpha\n",
       "    uint8 B; // @2, normalized, gamma, premultiplied alpha\n",
       "  ],\n",
       "  data = [ 300 B of image data ]\n",
       "]"
      ]
     },
     "execution_count": 11,
     "metadata": {},
     "output_type": "execute_result"
    }
   ],
   "source": [
    "dr.set_grad(params[key], 0)\n",
    "si_init = scene.ray_intersect(ray_set)\n",
    "img_init = direct(si_set,ray_set)\n",
    "img_init_np = np.array(img_init).reshape(image_res[0], image_res[1], 3)\n",
    "img_init_np = mi.TensorXf(img_init_np)\n",
    "mi.util.convert_to_bitmap(img_init_np)"
   ]
  },
  {
   "cell_type": "code",
   "execution_count": 12,
   "id": "a8825f08",
   "metadata": {},
   "outputs": [
    {
     "name": "stdout",
     "output_type": "stream",
     "text": [
      "[[-1.43948519 -0.67314404 -0.01961632]]\n",
      "[[6.85627639e-01 1.49930492e-01 1.27323656e-04]]\n",
      "[[7. 7. 7.]]\n"
     ]
    }
   ],
   "source": [
    "loss = mse(img_init,img_ref)\n",
    "# Backpropagate through the rendering process\n",
    "dr.backward(loss, flags = dr.ADFlag.BackPropVarianceCounter | dr.ADFlag.ClearVertices)\n",
    "g = dr.grad(params[key])\n",
    "g2 = dr.grad2(params[key])\n",
    "c = dr.counter(params[key])\n",
    "g = np.array(g, dtype=np.float64)\n",
    "g2 = np.array(g2, dtype=np.float64)\n",
    "c = np.array(c, dtype=np.float64)\n",
    "print(g)\n",
    "print(g2)\n",
    "print(c)"
   ]
  },
  {
   "attachments": {},
   "cell_type": "markdown",
   "id": "aee425a1",
   "metadata": {},
   "source": [
    "##### 4. Ray by ray rendering\n",
    "The image is rendered 1 ray 1 pixel per iteration, and accumulated to form the final rendering. It should be the same as the image rendered with the entire ray set.\n",
    "\\\n",
    "Here the loss is the mse between the rendered pixel and the corresponding pixel in the init_image.\n",
    "The grad, grad2, counter, computed for each pixel is recorded."
   ]
  },
  {
   "cell_type": "code",
   "execution_count": 13,
   "id": "c928b0ae",
   "metadata": {},
   "outputs": [],
   "source": [
    "ray_by_ray = []\n",
    "grads = []\n",
    "grad2s = []\n",
    "counters = []\n",
    "for i in range(image_res[0]*image_res[1]):\n",
    "    dr.set_grad(params[key], 0)\n",
    "    ray2 = mi.Ray3f(o=dr.slice(ray_origin,i), d=cam_dir)\n",
    "    si2 = scene.ray_intersect(ray2)\n",
    "    temp = direct(si2,ray2)\n",
    "    dr.eval(temp)\n",
    "    loss = mse(temp,dr.slice(img_ref,i))\n",
    "    dr.backward(loss, flags = dr.ADFlag.BackPropVarianceCounter | dr.ADFlag.ClearVertices)\n",
    "    g_ = np.array(dr.grad(params[key]))\n",
    "    g2_ = np.array(dr.grad2(params[key]))\n",
    "    c_ = np.array(dr.counter(params[key]))\n",
    "    grads.append(g_)\n",
    "    grad2s.append(g2_)\n",
    "    counters.append(c_)\n",
    "    # print(temp)\n",
    "    ray_by_ray.append(temp)\n"
   ]
  },
  {
   "cell_type": "code",
   "execution_count": 14,
   "id": "5073bd94",
   "metadata": {},
   "outputs": [
    {
     "data": {
      "text/html": [
       "<img src=\"data:image/png;base64, iVBORw0KGgoAAAANSUhEUgAAAAoAAAAKEAIAAABSwISpAAAABGdBTUEAALGPC/xhBQAAAAFzUkdCAzfHTVMAAAAgY0hSTQAAeiYAAICEAAD6AAAAgOgAAHUwAADqYAAAOpgAABdwnLpRPAAAACR0RVh0Z2VuZXJhdGVkX2J5ACJNaXRzdWJhIHZlcnNpb24gMy4zLjAiZsCOiQAAAVBJREFUKFOlkT1uwkAQRtf27mL+LFe4SE9HlRbBCUjjdDlEhMQJItEhUSJFkeJjUKBcI2VqKEDG9np3Znadwk0akiKvmO4V3xvG/oG3Wj09zWZRNBiEYRT1+91uGErJeRAEge8jElmrVF0DXC5FoVSel6XWeV4USvGiUMoY55qmaYwBIJJSCM49jzHGnHOuabQGQFRKawCl6toYAERreVXVtTFERNZmGdF8LkQcJ4nvCyFlmh6P2Tuita5pFa2NQaxrAEReVUoZgyiltdfr5+fh4Pu9XhR5HudCvL4SDYZpmiTHIyKRcwCIRO3lk8l4fHf38vL2djjcChPHo9Fw+PWllDH394+P02lVaQ3gdzpCcL7dLpcPD7fk3e50Kor9viwB1uss+/iQUogg8G4JP9lsnp8Xi3ZtG68txf8SGWPsfM7zsmwLG4NI1P7lL+9XvgFtD+6UOAlMZAAAAABJRU5ErkJggg==\"width=\"250vm\" />"
      ],
      "text/plain": [
       "Bitmap[\n",
       "  pixel_format = rgb,\n",
       "  component_format = uint8,\n",
       "  size = [10, 10],\n",
       "  srgb_gamma = 1,\n",
       "  struct = Struct<3>[\n",
       "    uint8 R; // @0, normalized, gamma, premultiplied alpha\n",
       "    uint8 G; // @1, normalized, gamma, premultiplied alpha\n",
       "    uint8 B; // @2, normalized, gamma, premultiplied alpha\n",
       "  ],\n",
       "  data = [ 300 B of image data ]\n",
       "]"
      ]
     },
     "execution_count": 14,
     "metadata": {},
     "output_type": "execute_result"
    }
   ],
   "source": [
    "img_rbr_np = np.array(ray_by_ray).reshape(image_res[0], image_res[1], 3)\n",
    "img_rbr_np = mi.TensorXf(img_rbr_np)\n",
    "mi.util.convert_to_bitmap(img_rbr_np)"
   ]
  },
  {
   "attachments": {},
   "cell_type": "markdown",
   "id": "cd4a4e27",
   "metadata": {},
   "source": [
    "##### 5. Results\n",
    "\n",
    "a. The image rendered ray by ray should be the same as the one rendered with the entire ray set.\n",
    "\\\n",
    "b. The sum of grads, grad2s, and counters (recorded in ray by ray process), should be the same as the grad, grad2, and counter we get from the rendering with ray set process."
   ]
  },
  {
   "cell_type": "code",
   "execution_count": 15,
   "id": "735c852a",
   "metadata": {},
   "outputs": [
    {
     "name": "stdout",
     "output_type": "stream",
     "text": [
      "[[-1.43948518 -0.67314406 -0.01961632]]\n",
      "[[-1.43948519 -0.67314404 -0.01961632]]\n",
      "\n",
      "[[6.85627675e-01 1.49930497e-01 1.27323653e-04]]\n",
      "[[6.85627639e-01 1.49930492e-01 1.27323656e-04]]\n",
      "\n",
      "[[7. 7. 7.]]\n",
      "[[7. 7. 7.]]\n"
     ]
    }
   ],
   "source": [
    "print(np.array(grads,dtype=np.float64).sum(axis=0))\n",
    "print(g)\n",
    "print()\n",
    "\n",
    "print(np.array(grad2s,dtype=np.float64).sum(axis=0))\n",
    "print(g2)\n",
    "print()\n",
    "\n",
    "\n",
    "print(np.array(counters, dtype=np.float64).sum(axis=0))\n",
    "print(c)"
   ]
  },
  {
   "cell_type": "code",
   "execution_count": 16,
   "id": "6da6c79c",
   "metadata": {},
   "outputs": [
    {
     "name": "stdout",
     "output_type": "stream",
     "text": [
      "[0.0]\n"
     ]
    }
   ],
   "source": [
    "print(mse(img_rbr_np, img_init_np))"
   ]
  }
 ],
 "metadata": {
  "celltoolbar": "Edit Metadata",
  "kernelspec": {
   "display_name": "Python 3 (ipykernel)",
   "language": "python",
   "name": "python3"
  },
  "language_info": {
   "codemirror_mode": {
    "name": "ipython",
    "version": 3
   },
   "file_extension": ".py",
   "mimetype": "text/x-python",
   "name": "python",
   "nbconvert_exporter": "python",
   "pygments_lexer": "ipython3",
   "version": "3.9.13"
  }
 },
 "nbformat": 4,
 "nbformat_minor": 5
}
